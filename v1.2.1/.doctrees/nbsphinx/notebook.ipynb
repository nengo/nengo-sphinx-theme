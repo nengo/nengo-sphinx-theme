{
 "cells": [
  {
   "cell_type": "markdown",
   "metadata": {},
   "source": [
    "# Notebook tests\n",
    "\n",
    "This page tests Jupyter notebooks rendered with `nbsphinx`.\n",
    "\n",
    "## Markdown cells\n",
    "\n",
    "### Sub-heading\n",
    "\n",
    "#### Sub-sub-heading\n",
    "\n",
    "##### Sub-sub-sub heading\n",
    "\n",
    "### Text\n",
    "\n",
    "Inline literal: `literal text`\n",
    "\n",
    "External link: https://www.nengo.ai/\n",
    "\n",
    "Email link: bob@example.com\n",
    "\n",
    "**Bold text**\n",
    "\n",
    "*Italic text*\n",
    "\n",
    "### Lists\n",
    "\n",
    "Unordered:\n",
    "\n",
    "* One\n",
    "  - Sublist\n",
    "    - This\n",
    "  - Sublist\n",
    "    - That\n",
    "    - The other thing\n",
    "* Two\n",
    "  - Sublist\n",
    "* Three\n",
    "  - Sublist\n",
    "\n",
    "Ordered:\n",
    "\n",
    "1. Here we go\n",
    "    1. Sublist\n",
    "    2. Sublist\n",
    "2. There we go\n",
    "3. Now this\n",
    "\n",
    "### Horizontal rules\n",
    "\n",
    "You can add horizontal rules:\n",
    "\n",
    "---\n",
    "\n",
    "### Blockquote\n",
    "\n",
    "> An MP3 is just a point in vector space, everyone knows that.\n",
    "\n",
    "### Math\n",
    "\n",
    "Inline math: $a^2 + b^2 = c^2$\n",
    "\n",
    "Displayed math:\n",
    "\n",
    "$$e^{i\\pi} + 1 = 0$$\n",
    "\n",
    "### Code\n",
    "\n",
    "Code included in a Markdown cell,\n",
    "for illustration but not execution.\n",
    "\n",
    "Indented over with spaces:\n",
    "\n",
    "    def f(x):\n",
    "        \"\"\"Docstring\"\"\"\n",
    "        return x**2\n",
    "\n",
    "With triple backticks (Github-flavored Markdown):\n",
    "\n",
    "```python\n",
    "def f(x):\n",
    "    \"\"\"Docstring\"\"\"\n",
    "    return x**2\n",
    "```\n",
    "\n",
    "### Tables\n",
    "\n",
    "| Header1 | Header2 | Header3 |\n",
    "| ------- | ------- | ------- |\n",
    "| Row 1   | Row 1   | Row 1   |\n",
    "| Row 2   | Row 2   | Row 2   |\n",
    "| Row 3   | Row 3   | Row 3   |\n",
    "\n",
    "### HTML\n",
    "\n",
    "Because Markdown is a superset of HTML\n",
    "you do things like define tables with HTML:\n",
    "\n",
    "<table>\n",
    "  <thead>\n",
    "    <tr>\n",
    "      <th>Header 1</th>\n",
    "      <th>Header 2</th>\n",
    "    </tr>\n",
    "  </thead>\n",
    "  <tr>\n",
    "    <td>row 1, cell 1</td>\n",
    "    <td>row 1, cell 2</td>\n",
    "  </tr>\n",
    "  <tr>\n",
    "    <td>row 2, cell 1</td>\n",
    "    <td>row 2, cell 2</td>\n",
    "  </tr>\n",
    "</table>"
   ]
  },
  {
   "cell_type": "markdown",
   "metadata": {},
   "source": [
    "## Code cells"
   ]
  },
  {
   "cell_type": "code",
   "execution_count": 1,
   "metadata": {},
   "outputs": [],
   "source": [
    "%matplotlib inline\n",
    "import matplotlib.pyplot as plt\n",
    "import numpy as np"
   ]
  },
  {
   "cell_type": "code",
   "execution_count": 2,
   "metadata": {},
   "outputs": [
    {
     "name": "stdout",
     "output_type": "stream",
     "text": [
      "This is a simple code cell\n"
     ]
    }
   ],
   "source": [
    "print(\"This is a simple code cell\")"
   ]
  },
  {
   "cell_type": "code",
   "execution_count": 3,
   "metadata": {},
   "outputs": [],
   "source": [
    "this_cell = \"Has no output\""
   ]
  },
  {
   "cell_type": "code",
   "execution_count": 4,
   "metadata": {},
   "outputs": [
    {
     "data": {
      "image/png": "[encoded data removed]",
      "text/plain": [
       "<Figure size 432x288 with 1 Axes>"
      ]
     },
     "metadata": {
      "needs_background": "light"
     },
     "output_type": "display_data"
    }
   ],
   "source": [
    "x = np.linspace(0, np.pi * 2)\n",
    "plt.plot(x, np.sin(x))\n",
    "plt.plot(x, np.cos(x))\n",
    "plt.title(\"Matplotlib plot\");"
   ]
  }
 ],
 "metadata": {
  "language_info": {
   "codemirror_mode": {
    "name": "ipython",
    "version": 3
   },
   "file_extension": ".py",
   "mimetype": "text/x-python",
   "name": "python",
   "nbconvert_exporter": "python",
   "pygments_lexer": "ipython3",
   "version": "3.6.7"
  }
 },
 "nbformat": 4,
 "nbformat_minor": 2
}
